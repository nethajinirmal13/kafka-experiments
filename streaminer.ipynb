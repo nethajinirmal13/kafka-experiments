{
 "cells": [
  {
   "cell_type": "code",
   "execution_count": null,
   "metadata": {},
   "outputs": [],
   "source": [
    "#kafka_producer.py\n",
    "from kafka import KafkaProducer\n",
    "import csv\n",
    "import json\n",
    "\n",
    "def read_csv(file_path):\n",
    "    with open(file_path, mode='r') as file:\n",
    "        csv_reader = csv.DictReader(file)\n",
    "        for row in csv_reader:\n",
    "            yield row\n",
    "\n",
    "def main():\n",
    "    producer = KafkaProducer(\n",
    "        bootstrap_servers='localhost:9092',\n",
    "        value_serializer=lambda v: json.dumps(v).encode('utf-8')\n",
    "    )\n",
    "    \n",
    "    for data in read_csv('sample_data.csv'):\n",
    "        producer.send('my_topic', value=data)\n",
    "        \n",
    "    producer.flush()\n",
    "    producer.close()\n",
    "\n",
    "if __name__ == '__main__':\n",
    "    main()\n"
   ]
  },
  {
   "cell_type": "code",
   "execution_count": null,
   "metadata": {},
   "outputs": [
    {
     "ename": "",
     "evalue": "",
     "output_type": "error",
     "traceback": [
      "\u001b[1;31mRunning cells with 'Python 3.12.4' requires the ipykernel package.\n",
      "\u001b[1;31mRun the following command to install 'ipykernel' into the Python environment. \n",
      "\u001b[1;31mCommand: '/opt/homebrew/bin/python3 -m pip install ipykernel -U --user --force-reinstall'"
     ]
    }
   ],
   "source": [
    "#kafka_consumer.py\n",
    "from kafka import KafkaConsumer\n",
    "import json\n",
    "import mysql.connector\n",
    "\n",
    "def insert_into_db(data):\n",
    "    conn = mysql.connector.connect(\n",
    "        host='localhost',\n",
    "        user='your_username',\n",
    "        password='your_password',\n",
    "        database='your_database'\n",
    "    )\n",
    "    cursor = conn.cursor()\n",
    "    \n",
    "    add_data = (\"INSERT INTO your_table \"\n",
    "                \"(id, name, age, city) \"\n",
    "                \"VALUES (%s, %s, %s, %s)\")\n",
    "    \n",
    "    data_tuple = (data['id'], data['name'], data['age'], data['city'])\n",
    "    cursor.execute(add_data, data_tuple)\n",
    "    \n",
    "    conn.commit()\n",
    "    cursor.close()\n",
    "    conn.close()\n",
    "\n",
    "def main():\n",
    "    consumer = KafkaConsumer(\n",
    "        'my_topic',\n",
    "        bootstrap_servers='localhost:9092',\n",
    "        value_deserializer=lambda m: json.loads(m.decode('utf-8'))\n",
    "    )\n",
    "    \n",
    "    for message in consumer:\n",
    "        data = message.value\n",
    "        insert_into_db(data)\n",
    "\n",
    "if __name__ == '__main__':\n",
    "    main()\n"
   ]
  },
  {
   "cell_type": "code",
   "execution_count": null,
   "metadata": {},
   "outputs": [],
   "source": []
  }
 ],
 "metadata": {
  "kernelspec": {
   "display_name": "Python 3",
   "language": "python",
   "name": "python3"
  },
  "language_info": {
   "name": "python",
   "version": "3.10.11"
  }
 },
 "nbformat": 4,
 "nbformat_minor": 2
}
