{
 "cells": [
  {
   "cell_type": "code",
   "execution_count": 2,
   "metadata": {},
   "outputs": [
    {
     "name": "stdout",
     "output_type": "stream",
     "text": [
      "Produced: {'id': 0, 'name': 'User 0', 'age': 20, 'city': 'CityName'}\n",
      "Produced: {'id': 1, 'name': 'User 1', 'age': 21, 'city': 'CityName'}\n",
      "Produced: {'id': 2, 'name': 'User 2', 'age': 22, 'city': 'CityName'}\n",
      "Produced: {'id': 3, 'name': 'User 3', 'age': 23, 'city': 'CityName'}\n",
      "Produced: {'id': 4, 'name': 'User 4', 'age': 24, 'city': 'CityName'}\n",
      "Produced: {'id': 5, 'name': 'User 5', 'age': 25, 'city': 'CityName'}\n",
      "Produced: {'id': 6, 'name': 'User 6', 'age': 26, 'city': 'CityName'}\n",
      "Produced: {'id': 7, 'name': 'User 7', 'age': 27, 'city': 'CityName'}\n",
      "Produced: {'id': 8, 'name': 'User 8', 'age': 28, 'city': 'CityName'}\n",
      "Produced: {'id': 9, 'name': 'User 9', 'age': 29, 'city': 'CityName'}\n"
     ]
    }
   ],
   "source": [
    "from kafka import KafkaProducer\n",
    "import json\n",
    "import time\n",
    "\n",
    "# Kafka producer configuration\n",
    "producer = KafkaProducer(\n",
    "    bootstrap_servers=['localhost:9092'],\n",
    "    value_serializer=lambda v: json.dumps(v).encode('utf-8')\n",
    ")\n",
    "\n",
    "# Produce messages to the topic\n",
    "for i in range(10):\n",
    "    data = {\n",
    "        'id': i,\n",
    "        'name': f'User {i}',\n",
    "        'age': 20 + i,\n",
    "        'city': 'CityName'\n",
    "    }\n",
    "    producer.send('my_topic', value=data)\n",
    "    print(f\"Produced: {data}\")\n",
    "    time.sleep(1)\n",
    "\n",
    "producer.flush()\n",
    "producer.close()\n"
   ]
  },
  {
   "cell_type": "code",
   "execution_count": null,
   "metadata": {},
   "outputs": [],
   "source": []
  }
 ],
 "metadata": {
  "kernelspec": {
   "display_name": "neth",
   "language": "python",
   "name": "python3"
  },
  "language_info": {
   "codemirror_mode": {
    "name": "ipython",
    "version": 3
   },
   "file_extension": ".py",
   "mimetype": "text/x-python",
   "name": "python",
   "nbconvert_exporter": "python",
   "pygments_lexer": "ipython3",
   "version": "3.10.11"
  }
 },
 "nbformat": 4,
 "nbformat_minor": 2
}
